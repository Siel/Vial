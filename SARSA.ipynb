{
 "cells": [
  {
   "cell_type": "code",
   "execution_count": 14,
   "metadata": {},
   "outputs": [
    {
     "data": {
      "text/plain": [
       "0.11"
      ]
     },
     "execution_count": 14,
     "metadata": {},
     "output_type": "execute_result"
    }
   ],
   "source": [
    "from npodEnv import NpodEnv\n",
    "import numpy as np\n",
    "env = NpodEnv()\n",
    "env.ver()"
   ]
  },
  {
   "cell_type": "code",
   "execution_count": 15,
   "metadata": {},
   "outputs": [],
   "source": [
    "#global Q_\n",
    "Q = dict()\n",
    "alpha = 1\n",
    "gamma = 1\n",
    "epsilon = 0.5"
   ]
  },
  {
   "cell_type": "code",
   "execution_count": 16,
   "metadata": {},
   "outputs": [],
   "source": [
    "def argmaxQ(Q, s, n_actions):\n",
    "    if s in Q.keys():\n",
    "        return(np.argmax(Q[s]))\n",
    "    else:\n",
    "        return(np.random.randint(0, n_actions))"
   ]
  },
  {
   "cell_type": "code",
   "execution_count": 17,
   "metadata": {},
   "outputs": [],
   "source": [
    "def policy_greedy(Q, s, epsilon, n_actions):\n",
    "    if np.random.rand() < epsilon:\n",
    "        return(argmaxQ(Q,s,n_actions))\n",
    "    else:\n",
    "        return(np.random.randint(0, n_actions))"
   ]
  },
  {
   "cell_type": "code",
   "execution_count": 18,
   "metadata": {},
   "outputs": [],
   "source": [
    "def SARSA(env, alpha, gamma, epsilon, Q, max_cylces):\n",
    "    n_actions = len(env.actions())\n",
    "    r = [None] * max_cycles\n",
    "    s = [None] * max_cycles\n",
    "    a = [None] * max_cycles\n",
    "     \n",
    "    t=0\n",
    "    s[t] = env.encoded_state()\n",
    "    a[t] = policy_greedy(Q,s[t], epsilon, n_actions)\n",
    "    obs = env.run(a[t])\n",
    "    r[t] = obs['reward']\n",
    "    s[t+1] = env.encoded_state()\n",
    "    try:\n",
    "        while t < max_cycles:\n",
    "            a[t+1] = policy_greedy(Q,s[t+1], epsilon, n_actions)\n",
    "            obs = env.run(a[t])\n",
    "            r[t+1] = obs['reward']\n",
    "            s[t+2] = env.encoded_state()\n",
    "            Q[s[t]][a[t]] += alpha * ( r[t] + (gamma * Q[s[t+1]][a[t+1]] ) - Q[s[t]][a[t]] )\n",
    "            t += 1\n",
    "            \n",
    "    except KeyboardInterrupt:\n",
    "        print(\"Press Ctrl-C to terminate while statement\")\n",
    "        pass\n",
    "    return(s,a,r,Q)"
   ]
  },
  {
   "cell_type": "code",
   "execution_count": null,
   "metadata": {},
   "outputs": [],
   "source": [
    "sol = SARSA"
   ]
  }
 ],
 "metadata": {
  "kernelspec": {
   "display_name": "Python 3",
   "language": "python",
   "name": "python3"
  },
  "language_info": {
   "codemirror_mode": {
    "name": "ipython",
    "version": 3
   },
   "file_extension": ".py",
   "mimetype": "text/x-python",
   "name": "python",
   "nbconvert_exporter": "python",
   "pygments_lexer": "ipython3",
   "version": "3.6.9"
  }
 },
 "nbformat": 4,
 "nbformat_minor": 4
}
