{
 "cells": [
  {
   "cell_type": "code",
   "execution_count": 21,
   "metadata": {},
   "outputs": [
    {
     "ename": "ModuleNotFoundError",
     "evalue": "No module named 'PyCall'",
     "output_type": "error",
     "traceback": [
      "\u001b[0;31m---------------------------------------------------------------------------\u001b[0m",
      "\u001b[0;31mModuleNotFoundError\u001b[0m                       Traceback (most recent call last)",
      "\u001b[0;32m<ipython-input-21-3ec00d97e667>\u001b[0m in \u001b[0;36m<module>\u001b[0;34m\u001b[0m\n\u001b[1;32m      1\u001b[0m \u001b[0;32mfrom\u001b[0m \u001b[0mnpodjlEnv\u001b[0m \u001b[0;32mimport\u001b[0m \u001b[0mNpodJLEnv\u001b[0m\u001b[0;34m\u001b[0m\u001b[0;34m\u001b[0m\u001b[0m\n\u001b[1;32m      2\u001b[0m \u001b[0;32mimport\u001b[0m \u001b[0mnumpy\u001b[0m \u001b[0;32mas\u001b[0m \u001b[0mnp\u001b[0m\u001b[0;34m\u001b[0m\u001b[0;34m\u001b[0m\u001b[0m\n\u001b[0;32m----> 3\u001b[0;31m \u001b[0;32mimport\u001b[0m \u001b[0mPyCall\u001b[0m\u001b[0;34m.\u001b[0m\u001b[0mjlwrap\u001b[0m\u001b[0;34m\u001b[0m\u001b[0;34m\u001b[0m\u001b[0m\n\u001b[0m\u001b[1;32m      4\u001b[0m \u001b[0menv\u001b[0m \u001b[0;34m=\u001b[0m \u001b[0mNpodJLEnv\u001b[0m\u001b[0;34m(\u001b[0m\u001b[0;34m)\u001b[0m\u001b[0;34m\u001b[0m\u001b[0;34m\u001b[0m\u001b[0m\n\u001b[1;32m      5\u001b[0m \u001b[0menv\u001b[0m\u001b[0;34m.\u001b[0m\u001b[0mver\u001b[0m\u001b[0;34m(\u001b[0m\u001b[0;34m)\u001b[0m\u001b[0;34m\u001b[0m\u001b[0;34m\u001b[0m\u001b[0m\n",
      "\u001b[0;31mModuleNotFoundError\u001b[0m: No module named 'PyCall'"
     ]
    }
   ],
   "source": [
    "from npodjlEnv import NpodJLEnv\n",
    "import numpy as np\n",
    "import PyCall.jlwrap\n",
    "env = NpodJLEnv()\n",
    "env.ver()"
   ]
  },
  {
   "cell_type": "code",
   "execution_count": null,
   "metadata": {},
   "outputs": [],
   "source": [
    "def argmaxQ(Q, s, n_actions):\n",
    "    if s in Q.keys():\n",
    "        return(np.argmax(Q[s]))\n",
    "    else:\n",
    "        return(np.random.randint(0, n_actions))"
   ]
  },
  {
   "cell_type": "code",
   "execution_count": null,
   "metadata": {},
   "outputs": [],
   "source": [
    "def policy_greedy(Q, s, epsilon, n_actions):\n",
    "    if np.random.rand() < epsilon:\n",
    "        return(argmaxQ(Q,s,n_actions))\n",
    "    else:\n",
    "        return(np.random.randint(0, n_actions))"
   ]
  },
  {
   "cell_type": "code",
   "execution_count": null,
   "metadata": {},
   "outputs": [],
   "source": [
    "def SARSA(env, alpha, gamma, epsilon, Q, max_cylces):\n",
    "    n_actions = len(env.actions())\n",
    "    r = [None] * (2*max_cycles)\n",
    "    s = [None] * (2*(max_cycles+1))\n",
    "    a = [None] * (2*max_cycles)\n",
    "    \n",
    "    t=0\n",
    "    s[t] = env.encoded_state()\n",
    "    a[t] = policy_greedy(Q,s[t], epsilon, n_actions)\n",
    "    obs = env.run(a[t])\n",
    "    r[t] = obs['reward']\n",
    "    s[t+1] = env.encoded_state() \n",
    "    if not s[t] in Q.keys():\n",
    "        Q[s[t]] = [0]*n_actions\n",
    "    try:\n",
    "        while t < max_cycles:\n",
    "            a[t+1] = policy_greedy(Q,s[t+1], epsilon, n_actions)\n",
    "            obs = env.run(a[t])\n",
    "            r[t+1] = obs['reward']\n",
    "            s[t+2] = env.encoded_state()\n",
    "            if not s[t+1] in Q.keys():\n",
    "                Q[s[t+1]] = [0]*n_actions\n",
    "            Q[s[t]][a[t]] = Q[s[t]][a[t]] + alpha * ( r[t] + (gamma * Q[s[t+1]][a[t+1]] ) - Q[s[t]][a[t]] )\n",
    "            t += 1\n",
    "            \n",
    "    except KeyboardInterrupt:\n",
    "        print(\"Press Ctrl-C to terminate while statement\")\n",
    "        pass\n",
    "    return(s,a,r,Q)"
   ]
  },
  {
   "cell_type": "code",
   "execution_count": null,
   "metadata": {
    "scrolled": true
   },
   "outputs": [],
   "source": [
    "Q = dict()\n",
    "alpha = 1\n",
    "gamma = 1\n",
    "epsilon = 0.5\n",
    "max_cycles = 250\n",
    "sol = SARSA(env, alpha, gamma, epsilon, Q, max_cycles)"
   ]
  },
  {
   "cell_type": "code",
   "execution_count": 5,
   "metadata": {},
   "outputs": [],
   "source": [
    "# Q=sol[3]\n",
    "# env.reset()\n",
    "# sol = SARSA(env, alpha, gamma, epsilon, Q, max_cycles)\n",
    "sol=env.run(1)"
   ]
  },
  {
   "cell_type": "code",
   "execution_count": 19,
   "metadata": {},
   "outputs": [
    {
     "data": {
      "text/plain": [
       "<PyCall.jlwrap Base.RefValue{Float64}(-1934.6945333948545)>"
      ]
     },
     "execution_count": 19,
     "metadata": {},
     "output_type": "execute_result"
    }
   ],
   "source": [
    "sol['fobj']"
   ]
  },
  {
   "cell_type": "code",
   "execution_count": 30,
   "metadata": {},
   "outputs": [],
   "source": [
    "from julia import Main"
   ]
  },
  {
   "cell_type": "code",
   "execution_count": 36,
   "metadata": {},
   "outputs": [],
   "source": [
    "Main.fobj=sol['fobj']\n",
    "jl = Main.eval(\"fobj[]\")"
   ]
  },
  {
   "cell_type": "code",
   "execution_count": 37,
   "metadata": {},
   "outputs": [
    {
     "data": {
      "text/plain": [
       "-1934.6945333948545"
      ]
     },
     "execution_count": 37,
     "metadata": {},
     "output_type": "execute_result"
    }
   ],
   "source": [
    "jl"
   ]
  },
  {
   "cell_type": "code",
   "execution_count": null,
   "metadata": {},
   "outputs": [],
   "source": []
  }
 ],
 "metadata": {
  "kernelspec": {
   "display_name": "Python 3",
   "language": "python",
   "name": "python3"
  },
  "language_info": {
   "codemirror_mode": {
    "name": "ipython",
    "version": 3
   },
   "file_extension": ".py",
   "mimetype": "text/x-python",
   "name": "python",
   "nbconvert_exporter": "python",
   "pygments_lexer": "ipython3",
   "version": "3.7.6"
  }
 },
 "nbformat": 4,
 "nbformat_minor": 4
}
