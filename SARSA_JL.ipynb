{
 "cells": [
  {
   "cell_type": "code",
   "execution_count": 1,
   "metadata": {},
   "outputs": [
    {
     "data": {
      "text/plain": [
       "0.3"
      ]
     },
     "execution_count": 1,
     "metadata": {},
     "output_type": "execute_result"
    }
   ],
   "source": [
    "from npodjlEnv import NpodJLEnv\n",
    "import numpy as np\n",
    "env = NpodJLEnv()\n",
    "env.ver()"
   ]
  },
  {
   "cell_type": "code",
   "execution_count": 2,
   "metadata": {},
   "outputs": [],
   "source": [
    "def argmaxQ(Q, s, n_actions):\n",
    "    if s in Q.keys():\n",
    "        return(np.argmax(Q[s]))\n",
    "    else:\n",
    "        return(np.random.randint(0, n_actions))"
   ]
  },
  {
   "cell_type": "code",
   "execution_count": 3,
   "metadata": {},
   "outputs": [],
   "source": [
    "def policy_greedy(Q, s, epsilon, n_actions):\n",
    "    if np.random.rand() < epsilon:\n",
    "        return(argmaxQ(Q,s,n_actions))\n",
    "    else:\n",
    "        return(np.random.randint(0, n_actions))"
   ]
  },
  {
   "cell_type": "code",
   "execution_count": 4,
   "metadata": {},
   "outputs": [],
   "source": [
    "def SARSA(env, alpha, gamma, epsilon, Q, max_cylces):\n",
    "    n_actions = len(env.actions())\n",
    "    r = [None] * (2*max_cycles)\n",
    "    s = [None] * (2*(max_cycles+1))\n",
    "    a = [None] * (2*max_cycles)\n",
    "    \n",
    "    t=0\n",
    "    s[t] = env.encoded_state()\n",
    "    a[t] = policy_greedy(Q,s[t], epsilon, n_actions)\n",
    "    obs = env.run(a[t])\n",
    "    r[t] = obs['reward']\n",
    "    s[t+1] = env.encoded_state() \n",
    "    if not s[t] in Q.keys():\n",
    "        Q[s[t]] = [0]*n_actions\n",
    "    try:\n",
    "        while t < max_cycles:\n",
    "            a[t+1] = policy_greedy(Q,s[t+1], epsilon, n_actions)\n",
    "            obs = env.run(a[t])\n",
    "            r[t+1] = obs['reward']\n",
    "            s[t+2] = env.encoded_state()\n",
    "            if not s[t+1] in Q.keys():\n",
    "                Q[s[t+1]] = [0]*n_actions\n",
    "            Q[s[t]][a[t]] = Q[s[t]][a[t]] + alpha * ( r[t] + (gamma * Q[s[t+1]][a[t+1]] ) - Q[s[t]][a[t]] )\n",
    "            t += 1\n",
    "            \n",
    "    except KeyboardInterrupt:\n",
    "        print(\"Press Ctrl-C to terminate while statement\")\n",
    "        pass\n",
    "    return(s,a,r,Q)"
   ]
  },
  {
   "cell_type": "code",
   "execution_count": 13,
   "metadata": {
    "scrolled": true
   },
   "outputs": [],
   "source": [
    "Q = dict()\n",
    "env.reset()"
   ]
  },
  {
   "cell_type": "code",
   "execution_count": null,
   "metadata": {},
   "outputs": [],
   "source": [
    "alpha = 1\n",
    "gamma = 0.99\n",
    "epsilon = 0.5\n",
    "max_cycles = 500\n",
    "sol = SARSA(env, alpha, gamma, epsilon, Q, max_cycles)"
   ]
  },
  {
   "cell_type": "code",
   "execution_count": 7,
   "metadata": {},
   "outputs": [
    {
     "data": {
      "text/plain": [
       "{'cycles': 14,\n",
       " 'theta': array([[4.38162078e-02, 9.85168451e-01, 1.05556749e-01, 1.66226307e-02,\n",
       "         6.26544119e-02, 9.53421887e-02, 7.14400410e-02, 1.17470775e-01,\n",
       "         2.90526231e-01, 1.03795604e-01, 3.31855444e-01, 6.26898722e-02,\n",
       "         3.41158837e-01, 6.85837748e-02, 3.08501185e-01, 1.85042942e-02,\n",
       "         3.49182465e-01, 3.21667103e-01, 3.32218496e-01, 2.81664237e-01,\n",
       "         2.84787535e-01, 2.82302431e-01, 3.12792066e-01, 9.22709202e-02,\n",
       "         3.52920192e-02, 3.01641969e-01, 3.54086005e-01, 4.62939301e-02,\n",
       "         2.92004025e-01, 8.74856888e-02, 9.83784296e-02, 3.12671819e-01,\n",
       "         8.19732570e-02, 2.90616194e-01, 3.54421722e-01, 9.14705053e-02,\n",
       "         5.60928691e-02, 8.68176517e-02, 1.30653974e-01, 7.64657307e-02,\n",
       "         8.70593191e-02, 2.90550698e-01, 5.58308436e-02, 2.93281811e-01,\n",
       "         1.30894551e-01],\n",
       "        [7.59888761e+01, 2.12792084e+02, 1.39545785e+02, 1.15993209e+02,\n",
       "         9.09419463e+01, 7.00813183e+01, 6.51682847e+01, 7.80166137e+01,\n",
       "         9.44648914e+01, 9.13369922e+01, 9.23993723e+01, 1.01849062e+02,\n",
       "         9.94405208e+01, 7.40071696e+01, 9.24961700e+01, 1.03817163e+02,\n",
       "         7.58148736e+01, 6.83615654e+01, 1.17850811e+02, 1.40939230e+02,\n",
       "         9.26153065e+01, 1.26731499e+02, 1.16399818e+02, 1.12518263e+02,\n",
       "         9.42903229e+01, 1.27848850e+02, 8.63962710e+01, 8.82423508e+01,\n",
       "         1.28893974e+02, 1.25880709e+02, 1.10128019e+02, 1.16022564e+02,\n",
       "         9.51479736e+01, 1.13447445e+02, 8.67970940e+01, 9.16196556e+01,\n",
       "         1.22747390e+02, 1.02952270e+02, 9.71291921e+01, 1.10600106e+02,\n",
       "         8.59569647e+01, 1.12886960e+02, 1.20928034e+02, 1.04545213e+02,\n",
       "         9.68357324e+01]]),\n",
       " 'w': array([0.01960732, 0.01960784, 0.01960784, 0.01978353, 0.01955839,\n",
       "        0.01960708, 0.01952416, 0.01960706, 0.02016452, 0.01965779,\n",
       "        0.01960767, 0.01966934, 0.01955154, 0.01969217, 0.01973475,\n",
       "        0.01941194, 0.01960711, 0.01960784, 0.01963856, 0.01985618,\n",
       "        0.01903587, 0.02056158, 0.02920319, 0.01634525, 0.01880785,\n",
       "        0.0192048 , 0.00449406, 0.0204277 , 0.01927135, 0.02000855,\n",
       "        0.02248337, 0.01072802, 0.02252467, 0.01670196, 0.03474802,\n",
       "        0.01952735, 0.05096822, 0.06518409, 0.03226728, 0.03398718,\n",
       "        0.03520692, 0.04067484, 0.00782183, 0.01976498, 0.00694841]),\n",
       " 'fobj': -1934.58245997081,\n",
       " 'a': [0.0011, 50],\n",
       " 'b': [2.0, 275.0],\n",
       " 'c0': 0.0,\n",
       " 'c1': 0.1,\n",
       " 'reward': 0.022584351070918274}"
      ]
     },
     "execution_count": 7,
     "metadata": {},
     "output_type": "execute_result"
    }
   ],
   "source": [
    "Q"
   ]
  },
  {
   "cell_type": "code",
   "execution_count": null,
   "metadata": {},
   "outputs": [],
   "source": []
  }
 ],
 "metadata": {
  "kernelspec": {
   "display_name": "Python 3",
   "language": "python",
   "name": "python3"
  },
  "language_info": {
   "codemirror_mode": {
    "name": "ipython",
    "version": 3
   },
   "file_extension": ".py",
   "mimetype": "text/x-python",
   "name": "python",
   "nbconvert_exporter": "python",
   "pygments_lexer": "ipython3",
   "version": "3.7.6"
  }
 },
 "nbformat": 4,
 "nbformat_minor": 4
}
