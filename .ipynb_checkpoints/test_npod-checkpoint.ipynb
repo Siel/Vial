{
 "cells": [
  {
   "cell_type": "code",
   "execution_count": 1,
   "metadata": {},
   "outputs": [
    {
     "name": "stdout",
     "output_type": "stream",
     "text": [
      "Defaulting to user installation because normal site-packages is not writeable\n",
      "Collecting rpy2\n",
      "  Downloading rpy2-3.4.2.tar.gz (186 kB)\n",
      "\u001b[K     |████████████████████████████████| 186 kB 971 kB/s eta 0:00:01\n",
      "\u001b[?25hRequirement already satisfied: cffi>=1.10.0 in /home/siel/.local/lib/python3.6/site-packages (from rpy2) (1.14.4)\n",
      "Requirement already satisfied: jinja2 in /home/siel/.local/lib/python3.6/site-packages (from rpy2) (2.11.2)\n",
      "Requirement already satisfied: pytz in /home/siel/.local/lib/python3.6/site-packages (from rpy2) (2020.5)\n",
      "Requirement already satisfied: pycparser in /home/siel/.local/lib/python3.6/site-packages (from cffi>=1.10.0->rpy2) (2.20)\n",
      "Requirement already satisfied: MarkupSafe>=0.23 in /home/siel/.local/lib/python3.6/site-packages (from jinja2->rpy2) (1.1.1)\n",
      "Collecting tzlocal\n",
      "  Downloading tzlocal-2.1-py2.py3-none-any.whl (16 kB)\n",
      "Building wheels for collected packages: rpy2\n",
      "  Building wheel for rpy2 (setup.py) ... \u001b[?25ldone\n",
      "\u001b[?25h  Created wheel for rpy2: filename=rpy2-3.4.2-cp36-cp36m-linux_aarch64.whl size=279247 sha256=1d3f7329cbca56f2cca4c3c2766e647fe8dcec4bc97ee482cf53831f4e02ff42\n",
      "  Stored in directory: /home/siel/.cache/pip/wheels/86/c0/48/ecfb556c578671c78f1c43fd30ec1ac7961e1d24efa829a4e9\n",
      "Successfully built rpy2\n",
      "Installing collected packages: tzlocal, rpy2\n",
      "Successfully installed rpy2-3.4.2 tzlocal-2.1\n",
      "\u001b[33mWARNING: You are using pip version 20.3.3; however, version 21.0.1 is available.\n",
      "You should consider upgrading via the '/usr/bin/python3 -m pip install --upgrade pip' command.\u001b[0m\n"
     ]
    }
   ],
   "source": [
    "!pip3 install rpy2"
   ]
  }
 ],
 "metadata": {
  "kernelspec": {
   "display_name": "Python 3",
   "language": "python",
   "name": "python3"
  },
  "language_info": {
   "codemirror_mode": {
    "name": "ipython",
    "version": 3
   },
   "file_extension": ".py",
   "mimetype": "text/x-python",
   "name": "python",
   "nbconvert_exporter": "python",
   "pygments_lexer": "ipython3",
   "version": "3.6.9"
  }
 },
 "nbformat": 4,
 "nbformat_minor": 4
}
